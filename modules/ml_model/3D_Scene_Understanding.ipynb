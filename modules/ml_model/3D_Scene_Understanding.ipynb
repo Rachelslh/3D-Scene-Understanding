{
  "nbformat": 4,
  "nbformat_minor": 0,
  "metadata": {
    "colab": {
      "name": "3D_Scene_Understanding.ipynb",
      "provenance": [],
      "collapsed_sections": []
    },
    "kernelspec": {
      "name": "python3",
      "display_name": "Python 3"
    },
    "language_info": {
      "name": "python"
    },
    "accelerator": "GPU"
  },
  "cells": [
    {
      "cell_type": "markdown",
      "metadata": {
        "id": "-1mm-J2RjTeu"
      },
      "source": [
        "#Imports"
      ]
    },
    {
      "cell_type": "code",
      "metadata": {
        "colab": {
          "base_uri": "https://localhost:8080/"
        },
        "id": "zgaMNi4_Fra6",
        "outputId": "fe88d63c-d2b7-4482-bc77-9f6d3396b7bb"
      },
      "source": [
        "from google.colab import drive\n",
        "drive.mount('/content/gdrive')\n",
        "\n",
        "%cd gdrive/My Drive/3D Scene Understanding"
      ],
      "execution_count": null,
      "outputs": [
        {
          "output_type": "stream",
          "name": "stdout",
          "text": [
            "Drive already mounted at /content/gdrive; to attempt to forcibly remount, call drive.mount(\"/content/gdrive\", force_remount=True).\n",
            "[Errno 2] No such file or directory: 'gdrive/My Drive/3D Scene Understanding'\n",
            "/content/gdrive/My Drive/3D Scene Understanding\n"
          ]
        }
      ]
    },
    {
      "cell_type": "code",
      "metadata": {
        "id": "cpdBMmPPi5jY"
      },
      "source": [
        "# set the matplotlib backend so figures can be saved in the background\n",
        "import matplotlib\n",
        "matplotlib.use(\"Agg\")\n",
        "\n",
        "# import the necessary packages\n",
        "from sklearn.preprocessing import LabelBinarizer\n",
        "from sklearn.model_selection import train_test_split\n",
        "from sklearn.metrics import classification_report, plot_confusion_matrix\n",
        "from tensorflow.keras.models import Sequential,  load_model\n",
        "from tensorflow.keras.layers import Dense\n",
        "from tensorflow.keras.optimizers import SGD\n",
        "import tensorflow as tf\n",
        "from imutils import paths\n",
        "import matplotlib.pyplot as plt\n",
        "import numpy as np\n",
        "import pandas as pd\n",
        "import argparse\n",
        "import random\n",
        "import pickle\n",
        "import cv2\n",
        "import os"
      ],
      "execution_count": null,
      "outputs": []
    },
    {
      "cell_type": "markdown",
      "metadata": {
        "id": "iC3WX0Wyg8p2"
      },
      "source": [
        "#Prepare Data"
      ]
    },
    {
      "cell_type": "code",
      "metadata": {
        "id": "TIVXXBD9guwc",
        "colab": {
          "base_uri": "https://localhost:8080/"
        },
        "outputId": "e0c6fb04-9e2a-4978-bc3d-3f8497e9046d"
      },
      "source": [
        "print(\"[INFO] loading dataset...\")\n",
        "\n",
        "names_csv = ['V1', 'V2', 'V3', 'V4', 'V5', 'V6', 'W1', 'W2', 'W3', 'Y1', 'Y2', 'Y3', 'Class']\n",
        "# grab the data and randomly shuffle them\n",
        "dataset = pd.read_csv('dataset.csv', names=names_csv)\n",
        "dataset.head()\n",
        "\n",
        "dataset = dataset.iloc[1: , :]\n",
        "\n",
        "for col in names_csv:\n",
        "  dataset[col] = dataset[col].astype(np.int)\n",
        "\n",
        "features = dataset.copy()\n",
        "# shuffle dataset\n",
        "# features = features.sample(frac=1).reset_index(drop=True)\n",
        "\n",
        "labels = features.pop('Class')\n",
        "\n",
        "features = np.array(features)\n",
        "labels = np.array(labels)"
      ],
      "execution_count": null,
      "outputs": [
        {
          "output_type": "stream",
          "name": "stdout",
          "text": [
            "[INFO] loading dataset...\n"
          ]
        }
      ]
    },
    {
      "cell_type": "markdown",
      "metadata": {
        "id": "_9yttJEgrnM-"
      },
      "source": [
        "#Construct Training Set and Test Set"
      ]
    },
    {
      "cell_type": "code",
      "metadata": {
        "id": "DA3vp4aJrvgJ"
      },
      "source": [
        "# partition the data into training and testing splits using 75% of\n",
        "# the data for training and the remaining 25% for testing\n",
        "(trainX, testX, trainY, testY) = train_test_split(features,\n",
        "\tlabels, test_size=0.25, random_state=42)"
      ],
      "execution_count": null,
      "outputs": []
    },
    {
      "cell_type": "code",
      "metadata": {
        "id": "6yIPfT6Pr85b"
      },
      "source": [
        "# convert the labels from integers to vectors (for 2-class, binary\n",
        "# classification you should use Keras' to_categorical function\n",
        "# instead as the scikit-learn's LabelBinarizer will not return a\n",
        "# vector)\n",
        "lb = LabelBinarizer()\n",
        "trainY = lb.fit_transform(trainY)\n",
        "testY = lb.transform(testY)"
      ],
      "execution_count": null,
      "outputs": []
    },
    {
      "cell_type": "markdown",
      "metadata": {
        "id": "Bjq-NhHRsHHC"
      },
      "source": [
        "#Construct model"
      ]
    },
    {
      "cell_type": "markdown",
      "metadata": {
        "id": "hcZdp2BmsmJV"
      },
      "source": [
        "##Model"
      ]
    },
    {
      "cell_type": "code",
      "metadata": {
        "id": "b-AP59KisKLp"
      },
      "source": [
        "# define the 3072-1024-512-3 architecture using Keras\n",
        "model = Sequential()\n",
        "model.add(Dense(25, input_shape=(12,), activation=\"sigmoid\"))\n",
        "model.add(Dense(len(lb.classes_), activation=\"softmax\"))"
      ],
      "execution_count": null,
      "outputs": []
    },
    {
      "cell_type": "markdown",
      "metadata": {
        "id": "VU3VeCwrspAm"
      },
      "source": [
        "##Optimizer and loss\n"
      ]
    },
    {
      "cell_type": "code",
      "metadata": {
        "id": "4PNF61ljsq2B",
        "colab": {
          "base_uri": "https://localhost:8080/"
        },
        "outputId": "130979b9-8531-43be-dd83-58addb524aec"
      },
      "source": [
        "# initialize our initial learning rate and # of epochs to train for\n",
        "INIT_LR = 0.1\n",
        "EPOCHS = 80\n",
        "# compile the model using SGD as our optimizer and categorical\n",
        "# cross-entropy loss (you'll want to use binary_crossentropy\n",
        "# for 2-class classification)\n",
        "print(\"[INFO] training network...\")\n",
        "opt = SGD(lr=INIT_LR)\n",
        "model.compile(loss=\"categorical_crossentropy\", optimizer=opt,\n",
        "\tmetrics=[\"accuracy\"])"
      ],
      "execution_count": null,
      "outputs": [
        {
          "output_type": "stream",
          "name": "stdout",
          "text": [
            "[INFO] training network...\n"
          ]
        },
        {
          "output_type": "stream",
          "name": "stderr",
          "text": [
            "/usr/local/lib/python3.7/dist-packages/keras/optimizer_v2/optimizer_v2.py:356: UserWarning: The `lr` argument is deprecated, use `learning_rate` instead.\n",
            "  \"The `lr` argument is deprecated, use `learning_rate` instead.\")\n"
          ]
        }
      ]
    },
    {
      "cell_type": "markdown",
      "metadata": {
        "id": "YsbF5U81szzQ"
      },
      "source": [
        "#Fitting the model"
      ]
    },
    {
      "cell_type": "code",
      "metadata": {
        "id": "HcSgmTRes3-T",
        "colab": {
          "base_uri": "https://localhost:8080/"
        },
        "outputId": "5c1a50ac-153e-4ec7-f766-75bc5b0d92ec"
      },
      "source": [
        "# train the neural network\n",
        "H = model.fit(x=trainX, y=trainY, validation_data=(testX, testY),\n",
        "\tepochs=EPOCHS, batch_size=1)"
      ],
      "execution_count": null,
      "outputs": [
        {
          "output_type": "stream",
          "name": "stdout",
          "text": [
            "Epoch 1/80\n",
            "83/83 [==============================] - 1s 5ms/step - loss: 1.5149 - accuracy: 0.2289 - val_loss: 1.4577 - val_accuracy: 0.2500\n",
            "Epoch 2/80\n",
            "83/83 [==============================] - 0s 3ms/step - loss: 1.3554 - accuracy: 0.3494 - val_loss: 1.4538 - val_accuracy: 0.3929\n",
            "Epoch 3/80\n",
            "83/83 [==============================] - 0s 3ms/step - loss: 1.2446 - accuracy: 0.4699 - val_loss: 1.0379 - val_accuracy: 0.5714\n",
            "Epoch 4/80\n",
            "83/83 [==============================] - 0s 3ms/step - loss: 1.1411 - accuracy: 0.4578 - val_loss: 1.1112 - val_accuracy: 0.5357\n",
            "Epoch 5/80\n",
            "83/83 [==============================] - 0s 3ms/step - loss: 1.0282 - accuracy: 0.5542 - val_loss: 0.9557 - val_accuracy: 0.7500\n",
            "Epoch 6/80\n",
            "83/83 [==============================] - 0s 3ms/step - loss: 0.9721 - accuracy: 0.6145 - val_loss: 0.9387 - val_accuracy: 0.6786\n",
            "Epoch 7/80\n",
            "83/83 [==============================] - 0s 3ms/step - loss: 0.8811 - accuracy: 0.6024 - val_loss: 0.7985 - val_accuracy: 0.7500\n",
            "Epoch 8/80\n",
            "83/83 [==============================] - 0s 3ms/step - loss: 0.7887 - accuracy: 0.6867 - val_loss: 0.8302 - val_accuracy: 0.7500\n",
            "Epoch 9/80\n",
            "83/83 [==============================] - 0s 3ms/step - loss: 0.7330 - accuracy: 0.7349 - val_loss: 0.8287 - val_accuracy: 0.5714\n",
            "Epoch 10/80\n",
            "83/83 [==============================] - 0s 3ms/step - loss: 0.6794 - accuracy: 0.7229 - val_loss: 0.7892 - val_accuracy: 0.6786\n",
            "Epoch 11/80\n",
            "83/83 [==============================] - 0s 3ms/step - loss: 0.6501 - accuracy: 0.7831 - val_loss: 0.6369 - val_accuracy: 0.8214\n",
            "Epoch 12/80\n",
            "83/83 [==============================] - 0s 3ms/step - loss: 0.6093 - accuracy: 0.7952 - val_loss: 0.6955 - val_accuracy: 0.7143\n",
            "Epoch 13/80\n",
            "83/83 [==============================] - 0s 3ms/step - loss: 0.5702 - accuracy: 0.8554 - val_loss: 0.7643 - val_accuracy: 0.7500\n",
            "Epoch 14/80\n",
            "83/83 [==============================] - 0s 3ms/step - loss: 0.5479 - accuracy: 0.8072 - val_loss: 0.6723 - val_accuracy: 0.8571\n",
            "Epoch 15/80\n",
            "83/83 [==============================] - 0s 3ms/step - loss: 0.5097 - accuracy: 0.7952 - val_loss: 0.6821 - val_accuracy: 0.8214\n",
            "Epoch 16/80\n",
            "83/83 [==============================] - 0s 3ms/step - loss: 0.4559 - accuracy: 0.9036 - val_loss: 0.7270 - val_accuracy: 0.8571\n",
            "Epoch 17/80\n",
            "83/83 [==============================] - 0s 3ms/step - loss: 0.4222 - accuracy: 0.8675 - val_loss: 0.5819 - val_accuracy: 0.8929\n",
            "Epoch 18/80\n",
            "83/83 [==============================] - 0s 3ms/step - loss: 0.4208 - accuracy: 0.8916 - val_loss: 0.7162 - val_accuracy: 0.7143\n",
            "Epoch 19/80\n",
            "83/83 [==============================] - 0s 3ms/step - loss: 0.4343 - accuracy: 0.8313 - val_loss: 0.5108 - val_accuracy: 0.8929\n",
            "Epoch 20/80\n",
            "83/83 [==============================] - 0s 3ms/step - loss: 0.4104 - accuracy: 0.8795 - val_loss: 0.4799 - val_accuracy: 0.8929\n",
            "Epoch 21/80\n",
            "83/83 [==============================] - 0s 3ms/step - loss: 0.3572 - accuracy: 0.8795 - val_loss: 0.4501 - val_accuracy: 0.8571\n",
            "Epoch 22/80\n",
            "83/83 [==============================] - 0s 3ms/step - loss: 0.3903 - accuracy: 0.8675 - val_loss: 0.6133 - val_accuracy: 0.8214\n",
            "Epoch 23/80\n",
            "83/83 [==============================] - 0s 3ms/step - loss: 0.3734 - accuracy: 0.8554 - val_loss: 0.4982 - val_accuracy: 0.8929\n",
            "Epoch 24/80\n",
            "83/83 [==============================] - 0s 3ms/step - loss: 0.3441 - accuracy: 0.8313 - val_loss: 0.4325 - val_accuracy: 0.8929\n",
            "Epoch 25/80\n",
            "83/83 [==============================] - 0s 3ms/step - loss: 0.3227 - accuracy: 0.8916 - val_loss: 0.5041 - val_accuracy: 0.8929\n",
            "Epoch 26/80\n",
            "83/83 [==============================] - 0s 3ms/step - loss: 0.3071 - accuracy: 0.8795 - val_loss: 0.4745 - val_accuracy: 0.8571\n",
            "Epoch 27/80\n",
            "83/83 [==============================] - 0s 3ms/step - loss: 0.3300 - accuracy: 0.8434 - val_loss: 0.4760 - val_accuracy: 0.8571\n",
            "Epoch 28/80\n",
            "83/83 [==============================] - 0s 3ms/step - loss: 0.2958 - accuracy: 0.8916 - val_loss: 0.5894 - val_accuracy: 0.8214\n",
            "Epoch 29/80\n",
            "83/83 [==============================] - 0s 3ms/step - loss: 0.2951 - accuracy: 0.8916 - val_loss: 0.5373 - val_accuracy: 0.8571\n",
            "Epoch 30/80\n",
            "83/83 [==============================] - 0s 3ms/step - loss: 0.2985 - accuracy: 0.8795 - val_loss: 0.4226 - val_accuracy: 0.8929\n",
            "Epoch 31/80\n",
            "83/83 [==============================] - 0s 4ms/step - loss: 0.2664 - accuracy: 0.8795 - val_loss: 0.4386 - val_accuracy: 0.8929\n",
            "Epoch 32/80\n",
            "83/83 [==============================] - 0s 3ms/step - loss: 0.2685 - accuracy: 0.8916 - val_loss: 0.4709 - val_accuracy: 0.8571\n",
            "Epoch 33/80\n",
            "83/83 [==============================] - 0s 3ms/step - loss: 0.2780 - accuracy: 0.8675 - val_loss: 0.4922 - val_accuracy: 0.8571\n",
            "Epoch 34/80\n",
            "83/83 [==============================] - 0s 3ms/step - loss: 0.2472 - accuracy: 0.9157 - val_loss: 0.5398 - val_accuracy: 0.8571\n",
            "Epoch 35/80\n",
            "83/83 [==============================] - 0s 4ms/step - loss: 0.2364 - accuracy: 0.9157 - val_loss: 0.4395 - val_accuracy: 0.8929\n",
            "Epoch 36/80\n",
            "83/83 [==============================] - 0s 3ms/step - loss: 0.2093 - accuracy: 0.9277 - val_loss: 0.4722 - val_accuracy: 0.8929\n",
            "Epoch 37/80\n",
            "83/83 [==============================] - 0s 3ms/step - loss: 0.2326 - accuracy: 0.9036 - val_loss: 0.4783 - val_accuracy: 0.8571\n",
            "Epoch 38/80\n",
            "83/83 [==============================] - 0s 3ms/step - loss: 0.2116 - accuracy: 0.9277 - val_loss: 0.4926 - val_accuracy: 0.8571\n",
            "Epoch 39/80\n",
            "83/83 [==============================] - 0s 3ms/step - loss: 0.1960 - accuracy: 0.9157 - val_loss: 0.6613 - val_accuracy: 0.8214\n",
            "Epoch 40/80\n",
            "83/83 [==============================] - 0s 3ms/step - loss: 0.2080 - accuracy: 0.9277 - val_loss: 0.4326 - val_accuracy: 0.8929\n",
            "Epoch 41/80\n",
            "83/83 [==============================] - 0s 3ms/step - loss: 0.2101 - accuracy: 0.9277 - val_loss: 0.5397 - val_accuracy: 0.8571\n",
            "Epoch 42/80\n",
            "83/83 [==============================] - 0s 3ms/step - loss: 0.2079 - accuracy: 0.9157 - val_loss: 0.3720 - val_accuracy: 0.8929\n",
            "Epoch 43/80\n",
            "83/83 [==============================] - 0s 3ms/step - loss: 0.1975 - accuracy: 0.9277 - val_loss: 0.5793 - val_accuracy: 0.8571\n",
            "Epoch 44/80\n",
            "83/83 [==============================] - 0s 3ms/step - loss: 0.1883 - accuracy: 0.9157 - val_loss: 0.5113 - val_accuracy: 0.8929\n",
            "Epoch 45/80\n",
            "83/83 [==============================] - 0s 3ms/step - loss: 0.1929 - accuracy: 0.9277 - val_loss: 0.5191 - val_accuracy: 0.8571\n",
            "Epoch 46/80\n",
            "83/83 [==============================] - 0s 3ms/step - loss: 0.1856 - accuracy: 0.9277 - val_loss: 0.5456 - val_accuracy: 0.8929\n",
            "Epoch 47/80\n",
            "83/83 [==============================] - 0s 3ms/step - loss: 0.1820 - accuracy: 0.9277 - val_loss: 0.4308 - val_accuracy: 0.8571\n",
            "Epoch 48/80\n",
            "83/83 [==============================] - 0s 3ms/step - loss: 0.1644 - accuracy: 0.9398 - val_loss: 0.4578 - val_accuracy: 0.8571\n",
            "Epoch 49/80\n",
            "83/83 [==============================] - 0s 3ms/step - loss: 0.1840 - accuracy: 0.9157 - val_loss: 0.4722 - val_accuracy: 0.8571\n",
            "Epoch 50/80\n",
            "83/83 [==============================] - 0s 3ms/step - loss: 0.1517 - accuracy: 0.9518 - val_loss: 0.4977 - val_accuracy: 0.8571\n",
            "Epoch 51/80\n",
            "83/83 [==============================] - 0s 3ms/step - loss: 0.1707 - accuracy: 0.9398 - val_loss: 0.5398 - val_accuracy: 0.8929\n",
            "Epoch 52/80\n",
            "83/83 [==============================] - 0s 3ms/step - loss: 0.1487 - accuracy: 0.9398 - val_loss: 0.4338 - val_accuracy: 0.8571\n",
            "Epoch 53/80\n",
            "83/83 [==============================] - 0s 3ms/step - loss: 0.1622 - accuracy: 0.9518 - val_loss: 0.5099 - val_accuracy: 0.8929\n",
            "Epoch 54/80\n",
            "83/83 [==============================] - 0s 3ms/step - loss: 0.1600 - accuracy: 0.9398 - val_loss: 0.4695 - val_accuracy: 0.8571\n",
            "Epoch 55/80\n",
            "83/83 [==============================] - 0s 3ms/step - loss: 0.1602 - accuracy: 0.9398 - val_loss: 0.3981 - val_accuracy: 0.8929\n",
            "Epoch 56/80\n",
            "83/83 [==============================] - 0s 3ms/step - loss: 0.1442 - accuracy: 0.9398 - val_loss: 0.4125 - val_accuracy: 0.8929\n",
            "Epoch 57/80\n",
            "83/83 [==============================] - 0s 3ms/step - loss: 0.1393 - accuracy: 0.9518 - val_loss: 0.5860 - val_accuracy: 0.8214\n",
            "Epoch 58/80\n",
            "83/83 [==============================] - 0s 3ms/step - loss: 0.1491 - accuracy: 0.9639 - val_loss: 0.5062 - val_accuracy: 0.8571\n",
            "Epoch 59/80\n",
            "83/83 [==============================] - 0s 3ms/step - loss: 0.1361 - accuracy: 0.9277 - val_loss: 0.4790 - val_accuracy: 0.8929\n",
            "Epoch 60/80\n",
            "83/83 [==============================] - 0s 3ms/step - loss: 0.1469 - accuracy: 0.9398 - val_loss: 0.5191 - val_accuracy: 0.8929\n",
            "Epoch 61/80\n",
            "83/83 [==============================] - 0s 3ms/step - loss: 0.1407 - accuracy: 0.9639 - val_loss: 0.5122 - val_accuracy: 0.8571\n",
            "Epoch 62/80\n",
            "83/83 [==============================] - 0s 3ms/step - loss: 0.1165 - accuracy: 0.9639 - val_loss: 0.5010 - val_accuracy: 0.8571\n",
            "Epoch 63/80\n",
            "83/83 [==============================] - 0s 3ms/step - loss: 0.1325 - accuracy: 0.9518 - val_loss: 0.5414 - val_accuracy: 0.8929\n",
            "Epoch 64/80\n",
            "83/83 [==============================] - 0s 3ms/step - loss: 0.1329 - accuracy: 0.9277 - val_loss: 0.5604 - val_accuracy: 0.8929\n",
            "Epoch 65/80\n",
            "83/83 [==============================] - 0s 3ms/step - loss: 0.1270 - accuracy: 0.9518 - val_loss: 0.5190 - val_accuracy: 0.8929\n",
            "Epoch 66/80\n",
            "83/83 [==============================] - 0s 3ms/step - loss: 0.1153 - accuracy: 0.9518 - val_loss: 0.4157 - val_accuracy: 0.8929\n",
            "Epoch 67/80\n",
            "83/83 [==============================] - 0s 3ms/step - loss: 0.1247 - accuracy: 0.9639 - val_loss: 0.4563 - val_accuracy: 0.8929\n",
            "Epoch 68/80\n",
            "83/83 [==============================] - 0s 3ms/step - loss: 0.1314 - accuracy: 0.9518 - val_loss: 0.4544 - val_accuracy: 0.8929\n",
            "Epoch 69/80\n",
            "83/83 [==============================] - 0s 3ms/step - loss: 0.1040 - accuracy: 0.9639 - val_loss: 0.6212 - val_accuracy: 0.8929\n",
            "Epoch 70/80\n",
            "83/83 [==============================] - 0s 3ms/step - loss: 0.1207 - accuracy: 0.9518 - val_loss: 0.4960 - val_accuracy: 0.8929\n",
            "Epoch 71/80\n",
            "83/83 [==============================] - 0s 3ms/step - loss: 0.0975 - accuracy: 0.9759 - val_loss: 0.6011 - val_accuracy: 0.8929\n",
            "Epoch 72/80\n",
            "83/83 [==============================] - 0s 3ms/step - loss: 0.1096 - accuracy: 0.9639 - val_loss: 0.4913 - val_accuracy: 0.8929\n",
            "Epoch 73/80\n",
            "83/83 [==============================] - 0s 3ms/step - loss: 0.1084 - accuracy: 0.9759 - val_loss: 0.5031 - val_accuracy: 0.8929\n",
            "Epoch 74/80\n",
            "83/83 [==============================] - 0s 3ms/step - loss: 0.1041 - accuracy: 0.9639 - val_loss: 0.6145 - val_accuracy: 0.8929\n",
            "Epoch 75/80\n",
            "83/83 [==============================] - 0s 3ms/step - loss: 0.1200 - accuracy: 0.9518 - val_loss: 0.5231 - val_accuracy: 0.8929\n",
            "Epoch 76/80\n",
            "83/83 [==============================] - 0s 3ms/step - loss: 0.0907 - accuracy: 0.9759 - val_loss: 0.6171 - val_accuracy: 0.8571\n",
            "Epoch 77/80\n",
            "83/83 [==============================] - 0s 3ms/step - loss: 0.1159 - accuracy: 0.9518 - val_loss: 0.5082 - val_accuracy: 0.8929\n",
            "Epoch 78/80\n",
            "83/83 [==============================] - 0s 3ms/step - loss: 0.1091 - accuracy: 0.9639 - val_loss: 0.4433 - val_accuracy: 0.8929\n",
            "Epoch 79/80\n",
            "83/83 [==============================] - 0s 3ms/step - loss: 0.1027 - accuracy: 0.9518 - val_loss: 0.6057 - val_accuracy: 0.8929\n",
            "Epoch 80/80\n",
            "83/83 [==============================] - 0s 3ms/step - loss: 0.1105 - accuracy: 0.9639 - val_loss: 0.5201 - val_accuracy: 0.8929\n"
          ]
        }
      ]
    },
    {
      "cell_type": "markdown",
      "metadata": {
        "id": "n9PwdsIhs7QR"
      },
      "source": [
        "#Evaluating the model"
      ]
    },
    {
      "cell_type": "code",
      "metadata": {
        "id": "CXxu3qX1s9gz",
        "colab": {
          "base_uri": "https://localhost:8080/"
        },
        "outputId": "9abe4fc5-5b27-407f-d572-515174865fa6"
      },
      "source": [
        "# evaluate the network\n",
        "print(\"[INFO] evaluating network...\")\n",
        "predictions = model.predict(x=testX, batch_size=1)\n",
        "\n",
        "target_names=list(map(str,lb.classes_))\n",
        "print(classification_report(testY.argmax(axis=1),\n",
        "\tpredictions.argmax(axis=1), target_names=target_names))\n",
        "\n",
        "# plot the training loss and accuracy\n",
        "N = np.arange(0, EPOCHS)\n",
        "plt.style.use(\"ggplot\")\n",
        "plt.figure()\n",
        "plt.plot(N, H.history[\"loss\"], label=\"train_loss\")\n",
        "plt.plot(N, H.history[\"val_loss\"], label=\"val_loss\")\n",
        "plt.plot(N, H.history[\"accuracy\"], label=\"train_acc\")\n",
        "plt.plot(N, H.history[\"val_accuracy\"], label=\"val_acc\")\n",
        "plt.title(\"Training Loss and Accuracy (Simple NN)\")\n",
        "plt.xlabel(\"Epoch #\")\n",
        "plt.ylabel(\"Loss/Accuracy\")\n",
        "plt.legend()\n",
        "plt.savefig('NN Model/accuracy_plot.png')\n"
      ],
      "execution_count": null,
      "outputs": [
        {
          "output_type": "stream",
          "name": "stdout",
          "text": [
            "[INFO] evaluating network...\n",
            "              precision    recall  f1-score   support\n",
            "\n",
            "           1       1.00      1.00      1.00         7\n",
            "           3       0.89      1.00      0.94         8\n",
            "           5       1.00      0.82      0.90        11\n",
            "           7       0.33      0.50      0.40         2\n",
            "\n",
            "    accuracy                           0.89        28\n",
            "   macro avg       0.81      0.83      0.81        28\n",
            "weighted avg       0.92      0.89      0.90        28\n",
            "\n"
          ]
        }
      ]
    },
    {
      "cell_type": "markdown",
      "metadata": {
        "id": "uHr_eRLjtEzz"
      },
      "source": [
        "#Saving the model"
      ]
    },
    {
      "cell_type": "code",
      "metadata": {
        "id": "F46piC78tAmF",
        "colab": {
          "base_uri": "https://localhost:8080/"
        },
        "outputId": "a5e0f8d2-ed34-4800-f33a-3120dc98f95a"
      },
      "source": [
        "# save the model and label binarizer to disk\n",
        "print(\"[INFO] serializing network and label binarizer...\")\n",
        "model.save('NN Model/nn.model', save_format=\"h5\")\n",
        "f = open('NN Model/nn_lb.pickle', \"wb\")\n",
        "f.write(pickle.dumps(lb))\n",
        "f.close()"
      ],
      "execution_count": null,
      "outputs": [
        {
          "output_type": "stream",
          "name": "stdout",
          "text": [
            "[INFO] serializing network and label binarizer...\n"
          ]
        }
      ]
    },
    {
      "cell_type": "markdown",
      "metadata": {
        "id": "vQ9WOOZ8s6_k"
      },
      "source": [
        "#Predicting using the model"
      ]
    },
    {
      "cell_type": "code",
      "metadata": {
        "id": "vWd1XuH7N_KO",
        "colab": {
          "base_uri": "https://localhost:8080/"
        },
        "outputId": "fe7e2aaf-ae46-4684-fd90-ed72ddc73718"
      },
      "source": [
        "# load the model and label binarizer\n",
        "print(\"[INFO] loading network and label binarizer...\")\n",
        "model = load_model('NN Model/nn.model')\n",
        "lb = pickle.loads(open('NN Model/nn_lb.pickle', \"rb\").read())"
      ],
      "execution_count": null,
      "outputs": [
        {
          "output_type": "stream",
          "name": "stdout",
          "text": [
            "[INFO] loading network and label binarizer...\n"
          ]
        }
      ]
    },
    {
      "cell_type": "code",
      "metadata": {
        "id": "i-wdDa1u7ehl",
        "colab": {
          "base_uri": "https://localhost:8080/"
        },
        "outputId": "e1335d34-e996-4b40-a1a8-16c53aacd495"
      },
      "source": [
        "# make a prediction on the vector\n",
        "data = [0, 0, 0, 0, 3, 0, 1, 0, 3, 0, 1, 1]\n",
        "data = np.expand_dims(data, axis=0)\n",
        "preds = model.predict(data, batch_size=1)\n",
        "# find the class label index with the largest corresponding\n",
        "# probability\n",
        "\n",
        "i = preds.argmax(axis=1)\n",
        "label = lb.classes_[i]\n",
        "\n",
        "print('Le vecteur de sortie est : ', preds, '\\n')\n",
        "print('L\\'objet est de la classe : ', label[0])"
      ],
      "execution_count": null,
      "outputs": [
        {
          "output_type": "stream",
          "name": "stdout",
          "text": [
            "Le vecteur de sortie est :  [[2.7597413e-04 3.7278078e-02 2.3041721e-01 7.3202872e-01]] \n",
            "\n",
            "L'objet est de la classe :  7\n"
          ]
        }
      ]
    }
  ]
}